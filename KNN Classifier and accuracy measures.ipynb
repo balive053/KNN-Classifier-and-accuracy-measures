{
 "cells": [
  {
   "cell_type": "markdown",
   "metadata": {},
   "source": [
    "# K-nearest neighbours classification\n"
   ]
  },
  {
   "cell_type": "code",
   "execution_count": 1,
   "metadata": {},
   "outputs": [
    {
     "name": "stdout",
     "output_type": "stream",
     "text": [
      ".. _iris_dataset:\n",
      "\n",
      "Iris plants dataset\n",
      "--------------------\n",
      "\n",
      "**Data Set Characteristics:**\n",
      "\n",
      "    :Number of Instances: 150 (50 in each of three classes)\n",
      "    :Number of Attributes: 4 numeric, predictive attributes and the class\n",
      "    :Attribute Information:\n",
      "        - sepal length in cm\n",
      "        - sepal width in cm\n",
      "        - petal length in cm\n",
      "        - petal width in cm\n",
      "        - class:\n",
      "                - Iris-Setosa\n",
      "                - Iris-Versicolour\n",
      "                - Iris-Virginica\n",
      "                \n",
      "    :Summary Statistics:\n",
      "\n",
      "    ============== ==== ==== ======= ===== ====================\n",
      "                    Min  Max   Mean    SD   Class Correlation\n",
      "    ============== ==== ==== ======= ===== ====================\n",
      "    sepal length:   4.3  7.9   5.84   0.83    0.7826\n",
      "    sepal width:    2.0  4.4   3.05   0.43   -0.4194\n",
      "    petal length:   1.0  6.9   3.76   1.76    0.9490  (high!)\n",
      "    petal width:    0.1  2.5   1.20   0.76    0.9565  (high!)\n",
      "    ============== ==== ==== ======= ===== ====================\n",
      "\n",
      "    :Missing Attribute Values: None\n",
      "    :Class Distribution: 33.3% for each of 3 classes.\n",
      "    :Creator: R.A. Fisher\n",
      "    :Donor: Michael Marshall (MARSHALL%PLU@io.arc.nasa.gov)\n",
      "    :Date: July, 1988\n",
      "\n",
      "The famous Iris database, first used by Sir R.A. Fisher. The dataset is taken\n",
      "from Fisher's paper. Note that it's the same as in R, but not as in the UCI\n",
      "Machine Learning Repository, which has two wrong data points.\n",
      "\n",
      "This is perhaps the best known database to be found in the\n",
      "pattern recognition literature.  Fisher's paper is a classic in the field and\n",
      "is referenced frequently to this day.  (See Duda & Hart, for example.)  The\n",
      "data set contains 3 classes of 50 instances each, where each class refers to a\n",
      "type of iris plant.  One class is linearly separable from the other 2; the\n",
      "latter are NOT linearly separable from each other.\n",
      "\n",
      ".. topic:: References\n",
      "\n",
      "   - Fisher, R.A. \"The use of multiple measurements in taxonomic problems\"\n",
      "     Annual Eugenics, 7, Part II, 179-188 (1936); also in \"Contributions to\n",
      "     Mathematical Statistics\" (John Wiley, NY, 1950).\n",
      "   - Duda, R.O., & Hart, P.E. (1973) Pattern Classification and Scene Analysis.\n",
      "     (Q327.D83) John Wiley & Sons.  ISBN 0-471-22361-1.  See page 218.\n",
      "   - Dasarathy, B.V. (1980) \"Nosing Around the Neighborhood: A New System\n",
      "     Structure and Classification Rule for Recognition in Partially Exposed\n",
      "     Environments\".  IEEE Transactions on Pattern Analysis and Machine\n",
      "     Intelligence, Vol. PAMI-2, No. 1, 67-71.\n",
      "   - Gates, G.W. (1972) \"The Reduced Nearest Neighbor Rule\".  IEEE Transactions\n",
      "     on Information Theory, May 1972, 431-433.\n",
      "   - See also: 1988 MLC Proceedings, 54-64.  Cheeseman et al\"s AUTOCLASS II\n",
      "     conceptual clustering system finds 3 classes in the data.\n",
      "   - Many, many more ...\n"
     ]
    }
   ],
   "source": [
    "%matplotlib inline\n",
    "\n",
    "from sklearn import datasets\n",
    "import numpy as np\n",
    "import matplotlib.pyplot as plt\n",
    "\n",
    "iris = datasets.load_iris()\n",
    "\n",
    "# View a description of the dataset \n",
    "print(iris.DESCR)\n",
    "\n",
    "# Set X a samples times features matrix, Y equal to the targets\n",
    "X=iris.data \n",
    "y=iris.target \n",
    "\n",
    "\n",
    "# Add some random noise to our data to make the task more challenging\n",
    "X=X+np.random.normal(0,0.4,X.shape)\n"
   ]
  },
  {
   "cell_type": "markdown",
   "metadata": {},
   "source": [
    "### View some basic dataset info"
   ]
  },
  {
   "cell_type": "code",
   "execution_count": 2,
   "metadata": {},
   "outputs": [
    {
     "name": "stdout",
     "output_type": "stream",
     "text": [
      "150\n",
      "(150, 4)\n"
     ]
    }
   ],
   "source": [
    "# View size and shape of dataset\n",
    "print(len(X))\n",
    "print(X.shape)"
   ]
  },
  {
   "cell_type": "code",
   "execution_count": 3,
   "metadata": {},
   "outputs": [
    {
     "name": "stdout",
     "output_type": "stream",
     "text": [
      "[0 1 2]\n"
     ]
    }
   ],
   "source": [
    "# View how many classes\n",
    "print(np.unique(y))"
   ]
  },
  {
   "cell_type": "code",
   "execution_count": 4,
   "metadata": {},
   "outputs": [
    {
     "name": "stdout",
     "output_type": "stream",
     "text": [
      "50\n"
     ]
    },
    {
     "data": {
      "text/plain": [
       "(array([50, 51, 52, 53, 54, 55, 56, 57, 58, 59, 60, 61, 62, 63, 64, 65, 66,\n",
       "        67, 68, 69, 70, 71, 72, 73, 74, 75, 76, 77, 78, 79, 80, 81, 82, 83,\n",
       "        84, 85, 86, 87, 88, 89, 90, 91, 92, 93, 94, 95, 96, 97, 98, 99],\n",
       "       dtype=int64),)"
      ]
     },
     "execution_count": 4,
     "metadata": {},
     "output_type": "execute_result"
    }
   ],
   "source": [
    "# How many samples do we have that belong to class 1?\n",
    "print(len(np.where(y==1)[0]))\n",
    "np.where(y==1)"
   ]
  },
  {
   "cell_type": "code",
   "execution_count": 5,
   "metadata": {},
   "outputs": [
    {
     "data": {
      "text/plain": [
       "array([0, 0, 0, 0, 0, 0, 0, 0, 0, 0, 0, 0, 0, 0, 0, 0, 0, 0, 0, 0, 0, 0,\n",
       "       0, 0, 0, 0, 0, 0, 0, 0, 0, 0, 0, 0, 0, 0, 0, 0, 0, 0, 0, 0, 0, 0,\n",
       "       0, 0, 0, 0, 0, 0, 1, 1, 1, 1, 1, 1, 1, 1, 1, 1, 1, 1, 1, 1, 1, 1,\n",
       "       1, 1, 1, 1, 1, 1, 1, 1, 1, 1, 1, 1, 1, 1, 1, 1, 1, 1, 1, 1, 1, 1,\n",
       "       1, 1, 1, 1, 1, 1, 1, 1, 1, 1, 1, 1, 2, 2, 2, 2, 2, 2, 2, 2, 2, 2,\n",
       "       2, 2, 2, 2, 2, 2, 2, 2, 2, 2, 2, 2, 2, 2, 2, 2, 2, 2, 2, 2, 2, 2,\n",
       "       2, 2, 2, 2, 2, 2, 2, 2, 2, 2, 2, 2, 2, 2, 2, 2, 2, 2])"
      ]
     },
     "execution_count": 5,
     "metadata": {},
     "output_type": "execute_result"
    }
   ],
   "source": [
    "y"
   ]
  },
  {
   "cell_type": "code",
   "execution_count": 6,
   "metadata": {},
   "outputs": [
    {
     "data": {
      "text/plain": [
       "array([[ 4.69125986e+00,  4.22970680e+00,  1.00529190e+00,\n",
       "         8.59279285e-01],\n",
       "       [ 5.24125131e+00,  3.10393920e+00,  1.21731968e+00,\n",
       "        -9.82576690e-02],\n",
       "       [ 5.04925674e+00,  3.20858407e+00,  9.64869323e-01,\n",
       "         6.84771591e-01],\n",
       "       [ 4.64655559e+00,  2.84063293e+00,  1.62468450e+00,\n",
       "         2.34040958e-02],\n",
       "       [ 5.03174143e+00,  3.55207383e+00,  1.39305513e+00,\n",
       "         1.00412039e-01],\n",
       "       [ 5.08083144e+00,  3.83969252e+00,  2.22081331e+00,\n",
       "         5.81570053e-01],\n",
       "       [ 5.00872392e+00,  3.67124658e+00,  1.09972201e+00,\n",
       "         1.84008352e-04],\n",
       "       [ 4.72975202e+00,  2.98982394e+00,  2.00504916e+00,\n",
       "         1.07037911e-01],\n",
       "       [ 5.61561283e+00,  2.63212826e+00,  1.22536767e+00,\n",
       "         6.22903802e-02],\n",
       "       [ 5.16079000e+00,  3.03762064e+00,  1.08364564e+00,\n",
       "         8.16726542e-01],\n",
       "       [ 5.10276326e+00,  3.39503035e+00,  1.53439961e+00,\n",
       "         1.04499500e-01],\n",
       "       [ 5.69838699e+00,  3.72015811e+00,  1.61322643e+00,\n",
       "        -1.38854648e-01],\n",
       "       [ 5.23471148e+00,  2.58224076e+00,  1.14980590e+00,\n",
       "         3.42780510e-01],\n",
       "       [ 4.10514115e+00,  3.08887826e+00,  1.12508572e+00,\n",
       "        -5.77736840e-01],\n",
       "       [ 5.98311827e+00,  3.87168187e+00,  7.25042810e-01,\n",
       "         7.84600285e-01],\n",
       "       [ 5.68130306e+00,  4.82280446e+00,  1.26475496e+00,\n",
       "         4.32533280e-01],\n",
       "       [ 5.79524261e+00,  3.71911526e+00,  2.09448582e+00,\n",
       "         9.57900254e-01],\n",
       "       [ 4.17535725e+00,  3.81421884e+00,  1.23784245e+00,\n",
       "         3.89545290e-01],\n",
       "       [ 5.53631547e+00,  3.99687134e+00,  1.67100547e+00,\n",
       "         4.12133292e-01],\n",
       "       [ 4.43920811e+00,  4.29880905e+00,  1.53745462e+00,\n",
       "         4.88891293e-01],\n",
       "       [ 5.70717964e+00,  3.95203533e+00,  2.22717006e+00,\n",
       "         6.17294842e-01],\n",
       "       [ 4.99558190e+00,  2.99061866e+00,  1.26103668e+00,\n",
       "        -2.87797739e-01],\n",
       "       [ 4.32811276e+00,  3.07817020e+00,  5.36152263e-01,\n",
       "         3.93033726e-01],\n",
       "       [ 4.23687827e+00,  3.04014650e+00,  1.79333362e+00,\n",
       "        -5.02063223e-01],\n",
       "       [ 4.27123235e+00,  3.87643421e+00,  2.02088420e+00,\n",
       "         9.70665535e-01],\n",
       "       [ 5.03519707e+00,  3.82506782e+00,  1.56682024e+00,\n",
       "        -2.65896816e-01],\n",
       "       [ 5.00626993e+00,  3.40887050e+00,  1.97070581e+00,\n",
       "         8.29092832e-01],\n",
       "       [ 5.13125565e+00,  4.26519216e+00,  1.52649735e+00,\n",
       "        -3.96852358e-01],\n",
       "       [ 5.66298808e+00,  2.98105478e+00,  1.10817079e+00,\n",
       "         5.74277468e-01],\n",
       "       [ 4.54647769e+00,  3.22384894e+00,  1.79202960e+00,\n",
       "         5.30114192e-01],\n",
       "       [ 4.73954098e+00,  2.61411307e+00,  1.16892226e+00,\n",
       "         6.46495560e-01],\n",
       "       [ 5.18870720e+00,  3.29250145e+00,  1.25816200e+00,\n",
       "         5.12183976e-02],\n",
       "       [ 5.09584420e+00,  4.64803729e+00,  1.43425757e+00,\n",
       "         5.25897544e-01],\n",
       "       [ 5.70433437e+00,  4.03411096e+00,  1.23045645e+00,\n",
       "         3.14413477e-01],\n",
       "       [ 4.69180943e+00,  2.99931447e+00,  1.33014309e+00,\n",
       "        -1.26671936e-01],\n",
       "       [ 4.93912585e+00,  3.33958811e+00,  7.47445673e-01,\n",
       "         7.18761864e-01],\n",
       "       [ 5.38242796e+00,  2.75878374e+00,  1.65381270e+00,\n",
       "        -7.53939951e-01],\n",
       "       [ 4.84822411e+00,  4.04515373e+00,  1.40299992e+00,\n",
       "        -3.61972233e-02],\n",
       "       [ 4.41215312e+00,  2.36047290e+00,  1.20351268e+00,\n",
       "         1.87992314e-01],\n",
       "       [ 6.10641024e+00,  3.58127991e+00,  1.54316457e+00,\n",
       "         8.46733778e-01],\n",
       "       [ 4.85946317e+00,  3.83052995e+00,  8.22491566e-01,\n",
       "         2.64467891e-01],\n",
       "       [ 4.45612155e+00,  2.03093149e+00,  1.69434745e+00,\n",
       "         4.61212789e-01],\n",
       "       [ 4.31759339e+00,  3.25735984e+00,  1.13296609e+00,\n",
       "         4.92258741e-01],\n",
       "       [ 4.18876363e+00,  3.84476704e+00,  1.74680247e+00,\n",
       "         1.09673796e+00],\n",
       "       [ 5.05671338e+00,  3.64643623e+00,  2.58685782e+00,\n",
       "         1.06943259e-01],\n",
       "       [ 4.59707167e+00,  2.56043216e+00,  2.10782637e+00,\n",
       "         7.02912870e-01],\n",
       "       [ 4.91371943e+00,  4.65543347e+00,  1.72755210e+00,\n",
       "         5.64226894e-02],\n",
       "       [ 4.85506953e+00,  3.01443911e+00,  1.88916035e+00,\n",
       "         1.40015544e-01],\n",
       "       [ 5.28311305e+00,  4.25135664e+00,  1.27982661e+00,\n",
       "         2.42987526e-01],\n",
       "       [ 5.11089155e+00,  3.27106114e+00,  1.67195078e+00,\n",
       "        -8.99395972e-02],\n",
       "       [ 6.83966537e+00,  2.52415099e+00,  4.38029761e+00,\n",
       "         7.96695409e-01],\n",
       "       [ 6.65315465e+00,  3.00716571e+00,  4.21640487e+00,\n",
       "         1.16457051e+00],\n",
       "       [ 7.13607916e+00,  2.67462948e+00,  4.67692006e+00,\n",
       "         1.66463252e+00],\n",
       "       [ 5.37288647e+00,  2.57512349e+00,  3.85468755e+00,\n",
       "         1.16176402e+00],\n",
       "       [ 6.41100403e+00,  3.31339266e+00,  4.04311517e+00,\n",
       "         1.01583570e+00],\n",
       "       [ 5.70186967e+00,  2.34344551e+00,  5.13383096e+00,\n",
       "         2.21484719e+00],\n",
       "       [ 5.92149090e+00,  2.61137420e+00,  4.67172861e+00,\n",
       "         1.55487404e+00],\n",
       "       [ 5.42581178e+00,  2.56799854e+00,  3.54948400e+00,\n",
       "         1.30492835e+00],\n",
       "       [ 6.48385424e+00,  2.36973048e+00,  4.18437063e+00,\n",
       "         1.06908779e+00],\n",
       "       [ 5.27862161e+00,  2.40359403e+00,  3.72551096e+00,\n",
       "         2.26297148e+00],\n",
       "       [ 5.23141644e+00,  2.11037842e+00,  3.80796044e+00,\n",
       "         1.68673674e+00],\n",
       "       [ 6.56096213e+00,  3.28900599e+00,  4.12842391e+00,\n",
       "         7.59895500e-01],\n",
       "       [ 5.95173079e+00,  2.51258790e+00,  3.77990464e+00,\n",
       "         1.30901741e+00],\n",
       "       [ 5.55034116e+00,  3.13902373e+00,  4.57118605e+00,\n",
       "         1.19262819e+00],\n",
       "       [ 5.50475787e+00,  3.48732315e+00,  3.67746644e+00,\n",
       "         1.87481395e+00],\n",
       "       [ 6.38701719e+00,  3.36214911e+00,  4.31036330e+00,\n",
       "         1.69968385e+00],\n",
       "       [ 5.68255495e+00,  3.40810536e+00,  4.75302597e+00,\n",
       "         1.85817551e+00],\n",
       "       [ 6.03321493e+00,  2.88965283e+00,  4.19239430e+00,\n",
       "         1.39137064e+00],\n",
       "       [ 6.22826997e+00,  2.40266625e+00,  3.80356240e+00,\n",
       "         1.68482469e+00],\n",
       "       [ 5.03475494e+00,  2.69315666e+00,  4.21826438e+00,\n",
       "         2.76230040e-01],\n",
       "       [ 5.65079896e+00,  3.33822473e+00,  4.66411710e+00,\n",
       "         2.21546997e+00],\n",
       "       [ 6.26534321e+00,  2.84191735e+00,  3.72601272e+00,\n",
       "         2.15111070e+00],\n",
       "       [ 6.62881514e+00,  2.57255595e+00,  5.13795107e+00,\n",
       "         8.91794378e-01],\n",
       "       [ 6.04823844e+00,  3.08652416e+00,  4.37764001e+00,\n",
       "         7.91381856e-01],\n",
       "       [ 6.10106061e+00,  3.59540111e+00,  3.65582459e+00,\n",
       "         1.92550972e+00],\n",
       "       [ 6.37456960e+00,  2.80913533e+00,  4.52489340e+00,\n",
       "         2.06885813e+00],\n",
       "       [ 6.01572616e+00,  3.39029613e+00,  4.97133497e+00,\n",
       "         2.00471644e+00],\n",
       "       [ 6.65699700e+00,  3.01014503e+00,  5.14141826e+00,\n",
       "         1.23495487e+00],\n",
       "       [ 6.56019283e+00,  2.83987343e+00,  4.62625119e+00,\n",
       "         1.05888310e+00],\n",
       "       [ 5.68041851e+00,  2.47830687e+00,  3.77817987e+00,\n",
       "         2.41099565e-01],\n",
       "       [ 5.48623226e+00,  1.85629553e+00,  3.41410561e+00,\n",
       "         1.22575782e+00],\n",
       "       [ 5.09205579e+00,  1.49664369e+00,  4.31548370e+00,\n",
       "         5.13237155e-01],\n",
       "       [ 5.01702539e+00,  3.88478120e+00,  4.19148023e+00,\n",
       "         1.21778831e+00],\n",
       "       [ 6.03822676e+00,  3.38278412e+00,  4.90425617e+00,\n",
       "         1.59040594e+00],\n",
       "       [ 5.26488945e+00,  3.08738087e+00,  4.42290105e+00,\n",
       "         1.89558399e+00],\n",
       "       [ 6.08492387e+00,  3.77074293e+00,  5.19523414e+00,\n",
       "         9.94827019e-01],\n",
       "       [ 7.03247531e+00,  3.50671806e+00,  4.86688183e+00,\n",
       "         5.51568441e-01],\n",
       "       [ 6.47469381e+00,  2.00484330e+00,  4.10295956e+00,\n",
       "         1.17256348e+00],\n",
       "       [ 5.44799868e+00,  2.96757354e+00,  3.91113040e+00,\n",
       "         1.09226558e+00],\n",
       "       [ 5.43550664e+00,  2.88828718e+00,  4.03632261e+00,\n",
       "         1.16144808e+00],\n",
       "       [ 5.81623259e+00,  2.45733313e+00,  5.05173967e+00,\n",
       "         6.95275757e-01],\n",
       "       [ 6.60473956e+00,  3.13535364e+00,  4.14863788e+00,\n",
       "         1.03080006e+00],\n",
       "       [ 6.51900820e+00,  2.83783186e+00,  4.03624490e+00,\n",
       "         8.17294004e-01],\n",
       "       [ 4.74726571e+00,  2.76276836e+00,  2.60565321e+00,\n",
       "         1.22445182e+00],\n",
       "       [ 5.75063155e+00,  2.19380080e+00,  4.82691440e+00,\n",
       "         1.52039065e+00],\n",
       "       [ 5.72538381e+00,  3.69262546e+00,  4.32989533e+00,\n",
       "         1.30323560e+00],\n",
       "       [ 6.49204677e+00,  2.90917197e+00,  4.24924558e+00,\n",
       "         1.13626972e+00],\n",
       "       [ 6.52784559e+00,  3.28850007e+00,  3.73663299e+00,\n",
       "         1.74091102e+00],\n",
       "       [ 4.48993807e+00,  2.80436675e+00,  2.73025417e+00,\n",
       "         1.19696180e+00],\n",
       "       [ 6.52567592e+00,  2.83349510e+00,  4.00860353e+00,\n",
       "         1.26289420e+00],\n",
       "       [ 6.93069686e+00,  3.24404939e+00,  6.95100820e+00,\n",
       "         2.16461030e+00],\n",
       "       [ 6.48283344e+00,  1.74963088e+00,  4.93810835e+00,\n",
       "         2.43710589e+00],\n",
       "       [ 7.74572401e+00,  2.49143344e+00,  5.89997039e+00,\n",
       "         1.41401011e+00],\n",
       "       [ 6.43450275e+00,  2.84373934e+00,  5.62951188e+00,\n",
       "         1.84263024e+00],\n",
       "       [ 6.51037513e+00,  3.51253565e+00,  6.10065779e+00,\n",
       "         2.83482334e+00],\n",
       "       [ 8.18697293e+00,  2.47558939e+00,  6.19329416e+00,\n",
       "         2.24072699e+00],\n",
       "       [ 4.85424495e+00,  2.59316196e+00,  4.49940903e+00,\n",
       "         1.69129002e+00],\n",
       "       [ 7.26047927e+00,  2.87355786e+00,  6.25307824e+00,\n",
       "         1.42219565e+00],\n",
       "       [ 5.92858341e+00,  2.52333763e+00,  5.92900770e+00,\n",
       "         2.29440012e+00],\n",
       "       [ 7.49127467e+00,  3.67319187e+00,  5.83080080e+00,\n",
       "         2.39800537e+00],\n",
       "       [ 7.08330369e+00,  3.03606479e+00,  5.67647530e+00,\n",
       "         2.37056275e+00],\n",
       "       [ 6.30665351e+00,  3.02454641e+00,  5.05945535e+00,\n",
       "         2.03227141e+00],\n",
       "       [ 6.61612408e+00,  2.96016871e+00,  5.19797240e+00,\n",
       "         2.44592014e+00],\n",
       "       [ 6.00166750e+00,  2.70741558e+00,  4.03743122e+00,\n",
       "         2.05373509e+00],\n",
       "       [ 6.13595435e+00,  2.68454988e+00,  4.45740966e+00,\n",
       "         2.89686573e+00],\n",
       "       [ 7.00537157e+00,  3.05137987e+00,  5.83727860e+00,\n",
       "         1.98901912e+00],\n",
       "       [ 6.34543479e+00,  2.89657375e+00,  5.10866614e+00,\n",
       "         1.44533997e+00],\n",
       "       [ 7.23495914e+00,  3.28421938e+00,  6.67642303e+00,\n",
       "         1.79192563e+00],\n",
       "       [ 8.14032183e+00,  2.87713065e+00,  6.74920275e+00,\n",
       "         2.48207320e+00],\n",
       "       [ 5.91592584e+00,  2.85032555e+00,  5.15701243e+00,\n",
       "         1.84828015e+00],\n",
       "       [ 6.70041012e+00,  2.72133084e+00,  6.04118792e+00,\n",
       "         2.49907969e+00],\n",
       "       [ 5.10879947e+00,  2.10378925e+00,  5.96851282e+00,\n",
       "         2.21040690e+00],\n",
       "       [ 7.00235798e+00,  2.84336343e+00,  7.16261057e+00,\n",
       "         1.16175570e+00],\n",
       "       [ 5.70470981e+00,  3.64429515e+00,  4.74957377e+00,\n",
       "         2.16176199e+00],\n",
       "       [ 6.60906675e+00,  3.26907989e+00,  5.44075904e+00,\n",
       "         2.35376090e+00],\n",
       "       [ 6.98443736e+00,  4.17588125e+00,  6.35217133e+00,\n",
       "         1.05228025e+00],\n",
       "       [ 5.85301611e+00,  3.37738137e+00,  5.25341958e+00,\n",
       "         1.39200907e+00],\n",
       "       [ 5.89669650e+00,  2.50268180e+00,  4.22935876e+00,\n",
       "         1.87835386e+00],\n",
       "       [ 5.97896277e+00,  2.31612278e+00,  5.54575412e+00,\n",
       "         2.04314564e+00],\n",
       "       [ 8.00586645e+00,  2.85512873e+00,  6.52385894e+00,\n",
       "         1.14087533e+00],\n",
       "       [ 7.13986102e+00,  2.36386074e+00,  6.23367355e+00,\n",
       "         2.19772882e+00],\n",
       "       [ 8.20501505e+00,  3.78654547e+00,  6.63027972e+00,\n",
       "         2.32903927e+00],\n",
       "       [ 5.71538150e+00,  2.95009953e+00,  5.87280225e+00,\n",
       "         1.87880145e+00],\n",
       "       [ 6.05438920e+00,  3.36783468e+00,  4.38130321e+00,\n",
       "         1.06449268e+00],\n",
       "       [ 6.14605553e+00,  3.10248008e+00,  5.56271513e+00,\n",
       "         1.34131742e+00],\n",
       "       [ 7.06319727e+00,  3.56478685e+00,  5.30613169e+00,\n",
       "         2.42214164e+00],\n",
       "       [ 6.04875619e+00,  3.25395714e+00,  5.35535915e+00,\n",
       "         3.05034432e+00],\n",
       "       [ 6.68415309e+00,  3.07523175e+00,  4.99612899e+00,\n",
       "         1.14909108e+00],\n",
       "       [ 5.29795477e+00,  2.91755584e+00,  4.63922876e+00,\n",
       "         1.93310903e+00],\n",
       "       [ 7.80145394e+00,  3.42153600e+00,  5.55629410e+00,\n",
       "         2.16694017e+00],\n",
       "       [ 6.06865035e+00,  2.79672664e+00,  5.65259993e+00,\n",
       "         2.25218509e+00],\n",
       "       [ 6.81457304e+00,  3.20867921e+00,  5.76144113e+00,\n",
       "         1.92499412e+00],\n",
       "       [ 6.04036647e+00,  3.03728164e+00,  4.92465255e+00,\n",
       "         2.49488577e+00],\n",
       "       [ 6.99874405e+00,  3.18112614e+00,  5.77176203e+00,\n",
       "         2.15071189e+00],\n",
       "       [ 6.48732540e+00,  2.75976099e+00,  5.53384805e+00,\n",
       "         2.57012721e+00],\n",
       "       [ 6.26259456e+00,  2.71114300e+00,  5.18562592e+00,\n",
       "         2.28258000e+00],\n",
       "       [ 6.85256856e+00,  2.97048645e+00,  5.27009360e+00,\n",
       "         2.13525123e+00],\n",
       "       [ 5.83852940e+00,  2.87103517e+00,  5.23292535e+00,\n",
       "         2.08053622e+00],\n",
       "       [ 6.37051782e+00,  3.33782588e+00,  5.30959348e+00,\n",
       "         2.70271096e+00],\n",
       "       [ 6.46480446e+00,  2.96690166e+00,  5.29619335e+00,\n",
       "         1.54368362e+00]])"
      ]
     },
     "execution_count": 6,
     "metadata": {},
     "output_type": "execute_result"
    }
   ],
   "source": [
    "X"
   ]
  },
  {
   "cell_type": "markdown",
   "metadata": {},
   "source": [
    "### Generate a list of shuffled indices of our data"
   ]
  },
  {
   "cell_type": "code",
   "execution_count": 7,
   "metadata": {},
   "outputs": [
    {
     "name": "stdout",
     "output_type": "stream",
     "text": [
      "[0, 1, 2, 3, 4, 5, 6, 7, 8, 9, 10, 11, 12, 13, 14, 15, 16, 17, 18, 19, 20, 21, 22, 23, 24, 25, 26, 27, 28, 29, 30, 31, 32, 33, 34, 35, 36, 37, 38, 39, 40, 41, 42, 43, 44, 45, 46, 47, 48, 49, 50, 51, 52, 53, 54, 55, 56, 57, 58, 59, 60, 61, 62, 63, 64, 65, 66, 67, 68, 69, 70, 71, 72, 73, 74, 75, 76, 77, 78, 79, 80, 81, 82, 83, 84, 85, 86, 87, 88, 89, 90, 91, 92, 93, 94, 95, 96, 97, 98, 99, 100, 101, 102, 103, 104, 105, 106, 107, 108, 109, 110, 111, 112, 113, 114, 115, 116, 117, 118, 119, 120, 121, 122, 123, 124, 125, 126, 127, 128, 129, 130, 131, 132, 133, 134, 135, 136, 137, 138, 139, 140, 141, 142, 143, 144, 145, 146, 147, 148, 149]\n",
      "[ 34 146  94  38  84 140   3  99  17 115 122  90   7  97  20   5 136  52\n",
      "  28  54  66  62  96   9  98  63  53 108  81 139  76  59 101 145  72  86\n",
      "  92  57  49  13 125  87  15 126 147  39   0  70 143  11  88  67 103  46\n",
      "  55  74 127 138  36 124  93 118  19 148  21  45 106   2  65 144  78 133\n",
      " 128  51  18   4  69  58  41  82  73  16  80 105 132  30  75  40  83  60\n",
      " 135 104  85 100  77  37 131 130  50  44  79 129 121 110 109  14  47  56\n",
      "  91 117  27   6 149 123  68   1  26  22 112 116 134 114  42  29 107 102\n",
      "  48  89  64 137  61  95 111  25  31  12 120  33  10  23  71 141 113  35\n",
      "   8  32 119  24 142  43]\n"
     ]
    }
   ],
   "source": [
    "# Generate and view unshuffled list of indexes to pre-check\n",
    "L=list(range(X.shape[0]))\n",
    "print(L)\n",
    "\n",
    "# Generate and view shuffled list of indexes to check\n",
    "L2 = np.random.permutation(range(X.shape[0]))\n",
    "print(L2)"
   ]
  },
  {
   "cell_type": "markdown",
   "metadata": {},
   "source": [
    "## Create k-NN classifier"
   ]
  },
  {
   "cell_type": "code",
   "execution_count": 8,
   "metadata": {},
   "outputs": [
    {
     "name": "stdout",
     "output_type": "stream",
     "text": [
      "[2 2 1 2 0 0 0 0 1 1 1 0 0 0 0 2 2 0 1 1 2 2 0 1 2 0 0 0 0 0]\n",
      "[2 2 1 2 0 0 0 0 1 1 1 0 0 0 0 2 1 0 2 0 2 2 0 1 2 0 0 0 0 0]\n"
     ]
    }
   ],
   "source": [
    "from sklearn.model_selection import train_test_split\n",
    "from sklearn.neighbors import KNeighborsClassifier\n",
    "\n",
    "# Split to train and test\n",
    "X_train, X_test, y_train, y_test = train_test_split(X, y, test_size=0.2)\n",
    "# Define knn classifier, with 5 neighbors and use the euclidian distance\n",
    "knn=KNeighborsClassifier(n_neighbors=10, metric='euclidean')\n",
    "# Define training and testing data, fit the classifier\n",
    "knn.fit(X_train,y_train)\n",
    "# Predict values for test data based on training data\n",
    "y_pred=knn.predict(X_test)\n",
    "# Print values\n",
    "print(y_test) # true values\n",
    "print(y_pred) # predicted values\n"
   ]
  },
  {
   "cell_type": "code",
   "execution_count": 9,
   "metadata": {},
   "outputs": [
    {
     "name": "stdout",
     "output_type": "stream",
     "text": [
      "[2 2 1 2 0 0 0 0 1 1 1 0 0 0 0 2 1 0 2 0 2 2 0 1 2 0 0 0 0 0]\n"
     ]
    }
   ],
   "source": [
    "predictions = KNeighborsClassifier(n_neighbors=10, metric='euclidean').fit(X_train,y_train).predict(X_test)\n",
    "print(predictions)"
   ]
  },
  {
   "cell_type": "markdown",
   "metadata": {},
   "source": [
    "### View accuracy"
   ]
  },
  {
   "cell_type": "code",
   "execution_count": 10,
   "metadata": {},
   "outputs": [
    {
     "name": "stdout",
     "output_type": "stream",
     "text": [
      "[[15  0  0]\n",
      " [ 1  5  1]\n",
      " [ 0  1  7]]\n",
      "0.9\n"
     ]
    }
   ],
   "source": [
    "# Generate overall accuracy scores\n",
    "from sklearn.metrics import confusion_matrix\n",
    "from sklearn.metrics import classification_report\n",
    "from sklearn.metrics import accuracy_score\n",
    "print(confusion_matrix(y_test,y_pred))\n",
    "print(accuracy_score(y_test,y_pred))"
   ]
  },
  {
   "cell_type": "code",
   "execution_count": 11,
   "metadata": {},
   "outputs": [
    {
     "name": "stdout",
     "output_type": "stream",
     "text": [
      "library precision: [0.9375     0.83333333 0.875     ]\n",
      "library recall: [1.         0.71428571 0.875     ]\n"
     ]
    }
   ],
   "source": [
    "# Generate Recall and precision scores\n",
    "from sklearn.metrics import precision_score, recall_score \n",
    "\n",
    "print('library precision: %s' % precision_score(y_test,y_pred,average=None))\n",
    "print('library recall: %s' % recall_score(y_test,y_pred,average=None))"
   ]
  },
  {
   "cell_type": "markdown",
   "metadata": {},
   "source": [
    "### Create own function to replicate confusion matrix and accuracy"
   ]
  },
  {
   "cell_type": "code",
   "execution_count": 12,
   "metadata": {},
   "outputs": [
    {
     "name": "stdout",
     "output_type": "stream",
     "text": [
      "[[15  0  0]\n",
      " [ 1  5  1]\n",
      " [ 0  1  7]]\n"
     ]
    }
   ],
   "source": [
    "# Define function to generate confusion matrix\n",
    "def myConfMat(y_test, y_pred, class_nunber):\n",
    "    Confusion = np.zeros((class_nunber, class_nunber), dtype = np.int)\n",
    "    for i in range(0, len(y_test)):\n",
    "        Confusion[y_test[i], y_pred[i]]+=1\n",
    "    return Confusion\n",
    "\n",
    "print(myConfMat(y_test,y_pred,len(np.unique(y))))"
   ]
  },
  {
   "cell_type": "code",
   "execution_count": 13,
   "metadata": {},
   "outputs": [
    {
     "name": "stdout",
     "output_type": "stream",
     "text": [
      "accuracy: 0.90\n"
     ]
    }
   ],
   "source": [
    "# Define function to generate accuracy\n",
    "def myAccuracy(y_test,y_pred):\n",
    "    correct = np.where(y_test==y_pred, 1, 0 )\n",
    "    total = len(y_test)\n",
    "    return sum(correct)/total\n",
    "    \n",
    "print('accuracy: %.2f' % myAccuracy(y_test,y_pred))"
   ]
  },
  {
   "cell_type": "markdown",
   "metadata": {},
   "source": [
    "### Create own function to replicate Recall and Precision"
   ]
  },
  {
   "cell_type": "code",
   "execution_count": 14,
   "metadata": {},
   "outputs": [
    {
     "name": "stdout",
     "output_type": "stream",
     "text": [
      "classes:      [0 1 2]\n",
      "my precision: [0.9375     0.83333333 0.875     ]\n",
      "my recall:    [1.         0.71428571 0.875     ]\n"
     ]
    }
   ],
   "source": [
    "# Define functions to generate recall and precision\n",
    "\n",
    "def myPrecision(y_ground, y_pred):\n",
    "    # Generate needed list of classes and zero matrix\n",
    "    classes = np.unique(y_ground)\n",
    "    precision = np.zeros(classes.shape) \n",
    "    \n",
    "    # Generate confusion matrix\n",
    "    confusion = myConfMat(y_test, y_pred, len(classes))\n",
    "    \n",
    "    # Measure precision\n",
    "    for i in classes:\n",
    "        precision[i] = confusion[i,i] / sum(confusion[:,i])\n",
    "        \n",
    "    return precision\n",
    "\n",
    "\n",
    "def myRecall(y_test, y_pred):\n",
    "    # Generate needed list of classes and zero matrix\n",
    "    classes = np.unique(y_pred)\n",
    "    recall = np.zeros(classes.shape) \n",
    "    \n",
    "    # Generate confusion matrix\n",
    "    confusion = myConfMat(y_test,y_pred,len(classes))\n",
    "    \n",
    "    # Measure recall \n",
    "    for i in classes:\n",
    "        recall[i] = confusion[i,i] / sum(confusion[i,:])\n",
    "    \n",
    "    return recall\n",
    "\n",
    "print('classes:      %s' % np.unique(y_pred) )    \n",
    "print('my precision: %s' % myPrecision(y_test,y_pred))\n",
    "print('my recall:    %s' % myRecall(y_test,y_pred))\n"
   ]
  },
  {
   "cell_type": "code",
   "execution_count": null,
   "metadata": {},
   "outputs": [],
   "source": []
  }
 ],
 "metadata": {
  "kernelspec": {
   "display_name": "Python 3",
   "language": "python",
   "name": "python3"
  },
  "language_info": {
   "codemirror_mode": {
    "name": "ipython",
    "version": 3
   },
   "file_extension": ".py",
   "mimetype": "text/x-python",
   "name": "python",
   "nbconvert_exporter": "python",
   "pygments_lexer": "ipython3",
   "version": "3.7.4"
  }
 },
 "nbformat": 4,
 "nbformat_minor": 2
}
